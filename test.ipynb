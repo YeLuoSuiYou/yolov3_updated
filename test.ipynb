{
 "cells": [
  {
   "cell_type": "code",
   "execution_count": 1,
   "metadata": {},
   "outputs": [],
   "source": [
    "import torch\n",
    "import torch.nn as nn\n",
    "from models.common import Conv, Bottleneck, SPPF, PSA"
   ]
  },
  {
   "cell_type": "code",
   "execution_count": 2,
   "metadata": {},
   "outputs": [],
   "source": [
    "test_image = torch.rand(1, 3, 640, 640)"
   ]
  },
  {
   "cell_type": "code",
   "execution_count": 3,
   "metadata": {},
   "outputs": [],
   "source": [
    "model = nn.Sequential(\n",
    "    Conv(3, 32, 3, 1),\n",
    "    Conv(32, 64, 3, 2),\n",
    "    Bottleneck(64, 64),\n",
    "    Conv(64, 128, 3, 2),\n",
    "    Bottleneck(128, 128),\n",
    "    Conv(128, 256, 3, 2),\n",
    "    Bottleneck(256, 256),\n",
    "    Conv(256, 512, 3, 2),\n",
    "    Bottleneck(512, 512),\n",
    "    Conv(512, 1024, 3, 2),\n",
    "    SPPF(1024, 1024, 5),\n",
    ")"
   ]
  },
  {
   "cell_type": "code",
   "execution_count": 4,
   "metadata": {},
   "outputs": [
    {
     "data": {
      "text/plain": [
       "torch.Size([1, 1024, 20, 20])"
      ]
     },
     "execution_count": 4,
     "metadata": {},
     "output_type": "execute_result"
    }
   ],
   "source": [
    "model(test_image).shape"
   ]
  }
 ],
 "metadata": {
  "kernelspec": {
   "display_name": "main",
   "language": "python",
   "name": "python3"
  },
  "language_info": {
   "codemirror_mode": {
    "name": "ipython",
    "version": 3
   },
   "file_extension": ".py",
   "mimetype": "text/x-python",
   "name": "python",
   "nbconvert_exporter": "python",
   "pygments_lexer": "ipython3",
   "version": "3.9.18"
  }
 },
 "nbformat": 4,
 "nbformat_minor": 2
}
